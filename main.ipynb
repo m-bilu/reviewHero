{
 "cells": [
  {
   "cell_type": "markdown",
   "id": "f5b5f3ec-9e71-4f56-a53f-e3648fe71838",
   "metadata": {},
   "source": [
    "#### This custom kernel should have PyTorch and Huggingface already installed"
   ]
  },
  {
   "cell_type": "markdown",
   "id": "ad48b4ef-b5b8-4f09-a9eb-7cc49d7bd47d",
   "metadata": {},
   "source": [
    "## ReviewSummarizer\n",
    "#### Goal:\n",
    "Build a dashboard using the BERT and Pegasus Transformer Encoder/Decoder models to provide digestable analytics on a restaurants performance.\n",
    "\n",
    "We scrap Yelp! reviews on an inputted restaurant name.\n",
    "We pass each review into BERT to produce an associated rating column\n",
    "We graph the distribution of high/low comments, giving the viewer an understanding of outlying observations and general trend regarding reviews\n",
    "We pass the first and last quartile of reviews into Pegasus to produce the summarized reason why the 1st quartile gave such low reviews, and why the last quartile gave such nice reviews.\n",
    "This tool is ment to help restaurants acquire a deep insight into the relationship with their audience, to understand the prevelance/extremity of certain complements and criticisms, along with quick pointers on how to fix the restaurant's most pressing issues/capture it's most successful\n",
    "\n",
    "#### Note:\n",
    "This will be written as an executable script with arguments for the input string representing the name and city of the restaurant on Yelp! trait."
   ]
  },
  {
   "cell_type": "markdown",
   "id": "b693d7f6-b4c3-4162-91bf-56bd5d8f08fe",
   "metadata": {},
   "source": [
    "### STEP 0: Args Setup"
   ]
  },
  {
   "cell_type": "code",
   "execution_count": 1,
   "id": "2bcdd4f2-1225-4f88-bb24-f53af4fe0008",
   "metadata": {},
   "outputs": [],
   "source": [
    "import sys\n",
    "term = sys.argv[1]\n",
    "location = sys.argv[2] ## Make this smarter later (what if city contains 'city, country'? etc.)\n",
    "\n",
    "## Hardcoded values; Testing Purposes\n",
    "testName = 'Lazeez Restaurant'\n",
    "testLoc = 'Mississauga, ON'\n"
   ]
  },
  {
   "cell_type": "markdown",
   "id": "6089b69d-0b40-4036-bcfa-69b0ef4e5bf8",
   "metadata": {},
   "source": [
    "### STEP 1: Scraping Pipeline with BeautifulSoup4"
   ]
  },
  {
   "cell_type": "code",
   "execution_count": 2,
   "id": "e9eb8610-b045-45eb-b865-03a6885b297b",
   "metadata": {},
   "outputs": [],
   "source": [
    "from bs4 import BeautifulSoup\n",
    "import re\n",
    "import requests "
   ]
  },
  {
   "cell_type": "markdown",
   "id": "cf62046d-8331-4f27-81bd-5206dc8d9151",
   "metadata": {},
   "source": [
    "##### 1.1 Defining Scrape Method"
   ]
  },
  {
   "cell_type": "code",
   "execution_count": 3,
   "id": "e3de992e-f1cd-4601-ab28-7a35fdc69eac",
   "metadata": {},
   "outputs": [],
   "source": [
    "apiKey = 'gUZY4zxhCM6Hz-3_iyUFM6v1lqIYCQyV6mUdk8BseiNmmzD1SaDyqTDNpMLvKwuMbO9sD3YBKvt5gatpFhe8EPwQnMNMyhm0Z2bMQb9QAqEEUgRhGGRPz6GorllpZXYx' \n",
    "## Should I keep this private? LOL \n",
    "\n",
    "## Input: \n",
    "#### term: Name of restaurant\n",
    "#### location: location of restaurant, comma seperated with city, province, country\n",
    "#### index: if 0, will pick top search result when parsing Yelp! with API, else will pick index'th result\n",
    "def searchYelp(term, location, index=0):\n",
    "\n",
    "    endpoint = \"https://api.yelp.com/v3/businesses/search\"\n",
    "    headers = {\n",
    "        \"Authorization\": f\"Bearer {apiKey}\"\n",
    "    }\n",
    "    params = {\n",
    "        'term':term,\n",
    "        'location':location\n",
    "    } \n",
    "    req = requests.get(endpoint, headers=headers, params=params)\n",
    "\n",
    "    ## If response code successful (Code 200):\n",
    "    if req.status_code == 200:\n",
    "        businesses=req.json().get('businesses', [])\n",
    "\n",
    "        \n",
    "        for business in businesses:\n",
    "            apiKey\n",
    "            #print(f\"Name: {business['name']}, Rating: {business['rating']}, URL: {business['url']}\")\n",
    "    \n",
    "        ## Picking index'th search result as restaurant\n",
    "        bparams = {\n",
    "            'id' : businesses[0]['id']\n",
    "        }\n",
    "        b = {\n",
    "            'source' : businesses[0],\n",
    "            'link' : businesses[0]['url'],\n",
    "            'id' : businesses[0]['id']\n",
    "        }\n",
    "\n",
    "        \n",
    "        b['req'] = requests.get(b['link'], headers = headers, params = bparams)\n",
    "        b['soup'] = BeautifulSoup(b['req'].text, 'html.parser')\n",
    "        b['regex'] = re.compile('.*comment.*')  ## Using regex expression to find all classes that are comments on restaurant (to use for customer sentiment analysis)\n",
    "        b['results'] = b['soup'].find_all('p', {'class':b['regex']})\n",
    "        b['reviews'] = [result.text for result in b['results']]\n",
    "\n",
    "        \n",
    "        if req.status_code != 200:\n",
    "            \n",
    "            print(f\"Error. Request denied with code: {req.status_code}.\")\n",
    "            return\n",
    "            \n",
    "        return b\n",
    "\n",
    "        \n",
    "        \n",
    "    \n",
    "        print(f\"Error. Request denied with code: {req.status_code}.\")"
   ]
  },
  {
   "cell_type": "markdown",
   "id": "efcba589-9ad5-4df1-85ab-82dcc70e58da",
   "metadata": {},
   "source": [
    "#### 1.2 Executing Scraping Method, Saving reviews in dict"
   ]
  },
  {
   "cell_type": "code",
   "execution_count": 4,
   "id": "9fad42d7-ff6c-4f58-b4de-722ceb7e13cd",
   "metadata": {},
   "outputs": [
    {
     "name": "stdout",
     "output_type": "stream",
     "text": [
      "['Chicken Shawarma Platter and Greek SaladThis was FANTASTIC! The Shawarma was outstanding and filling and the salad was outstanding! Will definitely be going back', \"Four words; they can do betterComing here from living in an Arab country for most of my life, the chicken shawarma they make here is very disappointing. But I know a lot of people who live this place, I just don't get the hype. I guess everyone's taste buds are just different idk\", '10/10. Fries have flour on them I think tho, so not GF friendly, but yum. The guys were nice when I went.', \"Been here a few times and always get lazeez on the rocks. I've had it with rice, fries, and potatoes but I think that my favourite combination would be half fries and half rice. Potatoes are $1 extra and salads are $3 extra. Their sauces are really good! Wish they put a little bit of veggies in their regular meals, would make the meal more refreshing. Proportions are pretty large/decent size. The large was $8.99 and the regular was $6.99zStaff were okay, could tell they were high, saw one holding cigarettes (with plastic gloves on), put them away, then proceeded to prepare food..\", \"Exam season in full swing and I've pretty much lost the little motivation I had to cook my own meals, so I've been resorting to getting take outs for a while. After the disappointment that was Shawerma Plus I didn't feel like trying out a similar restaurant, but my friend convinced me to give Lazeez a try because apparently, the portions are a lot better. I got the Regular sized Lazeez on the Rocks platter ($6.99) with half fries half rice (+$1) per my friend's recommendation. It was a generous layer of shawarma beef on top of rice and fries, with a think layer a garlic sauce drizzled on top with a dash of hot sauce. It was sooooo greasy and also soooooo satisfying. Definitely the comfort food I needed after a long day of studying!!! The portion size was good too, I had enough leftover for a second meal the following day, and it still tasted decent after getting reheated in the microwave. Would definitely revisit, and hope the new location at Waterloo plaza will offer the same quality of food as this location.PS. the hot sauce is VERY spicy, don't try to test your limits by asking for too much\", \"Cheap but you get what you pay for.I tried the lazeez on the sticks. (Basically lazeez on the rocks with fries) It was pretty cheap, only 8.99 for a large and a little more than 10 after tax.Overall it was kinda boring. Yes, it is meat on fries with sauce. It was pretty decent at the beginning, but then you realize it is just a bucket of fries and meat, and the pieces of meat are lower quality when compared with any of the shawarma places in the surrounding area (shawarma royale, shawerma plus, mozy) I got the medium heat, but found that pretty spicy. I usually get hot sauce at mozy and the otherwise, but the level 3 medium felt flaming.I'll probably try their shawarma some other time to compare between the shawarma places.\", \"I like this location. The young guy who works there is friendly and works fast. I haven't had a bad experience here yet\", \"I was never really a fan of shawarmas and didn't know anything about good shawarma places around until a friend recommended Lazeez to me. I decided to give this place a try because why not. I mean who really wants to cook dinner during midterms week anyways right? I ordered the recommended and most basic dish there which was the chicken shawarma wrap with mid spice. I always thought I could take spicy foods well but after having their shawarma I question my spice tolerance...For the price, the portion you get is not bad and the service was pretty quick. I would have to say this place did live up to its hype as other shawarma places like Shawarma Plus didn't do me justice (shawarma was a bit too dry for my liking) and I'll probably go back again if I'm craving shawarmas.\", \"Staff is very rude and I've noticed this at more than one location that they are busy chatting amongst themselves and they practically throw the food at the counter and turn their back as they continue chatting. It just seems like they  don't appreciate or put much stalk in being generally courteous or respectful towards customer. I have noticed this several times at multiple locations now and I was being careful not to be rude to them because I want to leave a fair review. Also, I wasn't entirely sure why they are behaving this way because until last year I found their service to be ok but it just seems their success may be getting to their heads or they just don't appreciate customers. In that case, Its just fair to take my business somewhere else and spend money elsewhere. Enough with this rude customer service model.\", \"Lazeez offers a variety of grilled Middle Eastern foods with most opting for either a chicken shawarma wrap or plate. I ordered the chicken shawarma plate which also came with a side salad. I found that the rice was cooked well, with a slight bite to it. I like it, do normal people like it like that? Salad was plain, just lettuce, pickled vegetables and onions with a light dressing. The chicken was similar to Mozy's, albeit with slightly larger pieces (I assume you know Mozy's if you're reading this...) so I would say it's better. The staff here were definitely high and were super confused with everything, though this was pretty comical. Overall, I'd come back here over Mozy's but Shawarma Plus is still the top dog!\"]\n",
      "\n",
      "10\n"
     ]
    }
   ],
   "source": [
    "reviews = searchYelp(testName, testLoc)['reviews']\n",
    "print(reviews)\n",
    "print('')\n",
    "print(len(reviews))\n",
    "\n",
    "\n"
   ]
  },
  {
   "cell_type": "code",
   "execution_count": 5,
   "id": "8c5e10d7-5534-466d-96f5-51912a326ffb",
   "metadata": {},
   "outputs": [],
   "source": [
    "import pandas as pd\n",
    "\n",
    "reviews = pd.DataFrame({\n",
    "    \n",
    "    'text' : list(reviews), \n",
    "    'score' : list(range(len(reviews))) ## temporary values\n",
    "    \n",
    "})"
   ]
  },
  {
   "cell_type": "markdown",
   "id": "713fed77-d208-4ef8-80e4-59d16f43beeb",
   "metadata": {},
   "source": [
    "### STEP 2: Scoring w/ BERT, HuggingFace Transformers Library"
   ]
  },
  {
   "cell_type": "code",
   "execution_count": 6,
   "id": "883208fd-2463-453c-9598-9775d810287d",
   "metadata": {},
   "outputs": [],
   "source": [
    "from transformers import AutoTokenizer, AutoModelForSequenceClassification\n",
    "import torch"
   ]
  },
  {
   "cell_type": "code",
   "execution_count": 7,
   "id": "da066749-db6f-4d67-8b6f-d170ffa97011",
   "metadata": {},
   "outputs": [],
   "source": [
    "bertTokenizer = AutoTokenizer.from_pretrained('nlptown/bert-base-multilingual-uncased-sentiment')\n",
    "bertModel = AutoModelForSequenceClassification.from_pretrained('nlptown/bert-base-multilingual-uncased-sentiment')"
   ]
  },
  {
   "cell_type": "code",
   "execution_count": 8,
   "id": "9a723f3e-10f8-43cb-bb9d-85a0fd8bb2a5",
   "metadata": {},
   "outputs": [
    {
     "data": {
      "text/html": [
       "<div>\n",
       "<style scoped>\n",
       "    .dataframe tbody tr th:only-of-type {\n",
       "        vertical-align: middle;\n",
       "    }\n",
       "\n",
       "    .dataframe tbody tr th {\n",
       "        vertical-align: top;\n",
       "    }\n",
       "\n",
       "    .dataframe thead th {\n",
       "        text-align: right;\n",
       "    }\n",
       "</style>\n",
       "<table border=\"1\" class=\"dataframe\">\n",
       "  <thead>\n",
       "    <tr style=\"text-align: right;\">\n",
       "      <th></th>\n",
       "      <th>text</th>\n",
       "      <th>score</th>\n",
       "    </tr>\n",
       "  </thead>\n",
       "  <tbody>\n",
       "    <tr>\n",
       "      <th>0</th>\n",
       "      <td>Chicken Shawarma Platter and Greek SaladThis w...</td>\n",
       "      <td>4</td>\n",
       "    </tr>\n",
       "    <tr>\n",
       "      <th>1</th>\n",
       "      <td>Four words; they can do betterComing here from...</td>\n",
       "      <td>2</td>\n",
       "    </tr>\n",
       "    <tr>\n",
       "      <th>2</th>\n",
       "      <td>10/10. Fries have flour on them I think tho, s...</td>\n",
       "      <td>4</td>\n",
       "    </tr>\n",
       "    <tr>\n",
       "      <th>3</th>\n",
       "      <td>Been here a few times and always get lazeez on...</td>\n",
       "      <td>3</td>\n",
       "    </tr>\n",
       "    <tr>\n",
       "      <th>4</th>\n",
       "      <td>Exam season in full swing and I've pretty much...</td>\n",
       "      <td>3</td>\n",
       "    </tr>\n",
       "    <tr>\n",
       "      <th>5</th>\n",
       "      <td>Cheap but you get what you pay for.I tried the...</td>\n",
       "      <td>2</td>\n",
       "    </tr>\n",
       "    <tr>\n",
       "      <th>6</th>\n",
       "      <td>I like this location. The young guy who works ...</td>\n",
       "      <td>3</td>\n",
       "    </tr>\n",
       "    <tr>\n",
       "      <th>7</th>\n",
       "      <td>I was never really a fan of shawarmas and didn...</td>\n",
       "      <td>2</td>\n",
       "    </tr>\n",
       "    <tr>\n",
       "      <th>8</th>\n",
       "      <td>Staff is very rude and I've noticed this at mo...</td>\n",
       "      <td>1</td>\n",
       "    </tr>\n",
       "    <tr>\n",
       "      <th>9</th>\n",
       "      <td>Lazeez offers a variety of grilled Middle East...</td>\n",
       "      <td>3</td>\n",
       "    </tr>\n",
       "  </tbody>\n",
       "</table>\n",
       "</div>"
      ],
      "text/plain": [
       "                                                text  score\n",
       "0  Chicken Shawarma Platter and Greek SaladThis w...      4\n",
       "1  Four words; they can do betterComing here from...      2\n",
       "2  10/10. Fries have flour on them I think tho, s...      4\n",
       "3  Been here a few times and always get lazeez on...      3\n",
       "4  Exam season in full swing and I've pretty much...      3\n",
       "5  Cheap but you get what you pay for.I tried the...      2\n",
       "6  I like this location. The young guy who works ...      3\n",
       "7  I was never really a fan of shawarmas and didn...      2\n",
       "8  Staff is very rude and I've noticed this at mo...      1\n",
       "9  Lazeez offers a variety of grilled Middle East...      3"
      ]
     },
     "execution_count": 8,
     "metadata": {},
     "output_type": "execute_result"
    }
   ],
   "source": [
    "reviews['score'] = [int(torch.argmax(bertModel(bertTokenizer.encode(review, return_tensors='pt')).logits)) for review in reviews['text']] ## class rating\n",
    "reviews ## ratings are from 0-5"
   ]
  },
  {
   "cell_type": "markdown",
   "id": "da08043a-b0d2-4686-abb1-812617b6ca49",
   "metadata": {},
   "source": [
    "### STEP 3: Distribution Plot w/ Seaborn, EXPAND THIS FURTHER WITH MORE ANALYTICS?"
   ]
  },
  {
   "cell_type": "code",
   "execution_count": 9,
   "id": "7b9106f2-3d71-41d1-9fcb-da76ea34c229",
   "metadata": {},
   "outputs": [
    {
     "data": {
      "image/png": "[encoded data removed]",
      "text/plain": [
       "<Figure size 640x480 with 1 Axes>"
      ]
     },
     "metadata": {},
     "output_type": "display_data"
    }
   ],
   "source": [
    "import matplotlib.pyplot as plt \n",
    "\n",
    "plot = plt.hist(reviews['score'])"
   ]
  },
  {
   "cell_type": "code",
   "execution_count": 10,
   "id": "3bcab3b5-4655-4596-b1f0-c1f0725d1533",
   "metadata": {},
   "outputs": [
    {
     "name": "stdout",
     "output_type": "stream",
     "text": [
      "                                                text  score\n",
      "1  Four words; they can do betterComing here from...      2\n",
      "5  Cheap but you get what you pay for.I tried the...      2\n",
      "7  I was never really a fan of shawarmas and didn...      2\n",
      "8  Staff is very rude and I've noticed this at mo...      1\n",
      "\n",
      "                                                text  score\n",
      "0  Chicken Shawarma Platter and Greek SaladThis w...      4\n",
      "2  10/10. Fries have flour on them I think tho, s...      4\n",
      "3  Been here a few times and always get lazeez on...      3\n",
      "4  Exam season in full swing and I've pretty much...      3\n",
      "6  I like this location. The young guy who works ...      3\n",
      "9  Lazeez offers a variety of grilled Middle East...      3\n"
     ]
    }
   ],
   "source": [
    "q1=reviews[list(reviews['score'] <= reviews['score'].quantile(0.25))]\n",
    "q3=reviews[list(reviews['score'] >= reviews['score'].quantile(0.75))]\n",
    "\n",
    "print(q1)\n",
    "print('')\n",
    "print(q3)"
   ]
  },
  {
   "cell_type": "code",
   "execution_count": 20,
   "id": "7807efb5-b194-4a72-81d5-7d2a20996743",
   "metadata": {},
   "outputs": [],
   "source": [
    "def passage(lstr):\n",
    "\n",
    "    cur = lstr[0]\n",
    "\n",
    "    for string in lstr[1:]:\n",
    "        cur = cur + ' ' + string\n",
    "\n",
    "    return cur\n",
    "\n",
    "badTexts = list(q1['text'])\n",
    "goodTexts = list(q3['text'])"
   ]
  },
  {
   "cell_type": "code",
   "execution_count": 21,
   "id": "256339ea-8900-4152-afd0-0b2c36eed1ca",
   "metadata": {},
   "outputs": [
    {
     "data": {
      "text/plain": [
       "[\"Four words; they can do betterComing here from living in an Arab country for most of my life, the chicken shawarma they make here is very disappointing. But I know a lot of people who live this place, I just don't get the hype. I guess everyone's taste buds are just different idk\",\n",
       " \"Cheap but you get what you pay for.I tried the lazeez on the sticks. (Basically lazeez on the rocks with fries) It was pretty cheap, only 8.99 for a large and a little more than 10 after tax.Overall it was kinda boring. Yes, it is meat on fries with sauce. It was pretty decent at the beginning, but then you realize it is just a bucket of fries and meat, and the pieces of meat are lower quality when compared with any of the shawarma places in the surrounding area (shawarma royale, shawerma plus, mozy) I got the medium heat, but found that pretty spicy. I usually get hot sauce at mozy and the otherwise, but the level 3 medium felt flaming.I'll probably try their shawarma some other time to compare between the shawarma places.\",\n",
       " \"I was never really a fan of shawarmas and didn't know anything about good shawarma places around until a friend recommended Lazeez to me. I decided to give this place a try because why not. I mean who really wants to cook dinner during midterms week anyways right? I ordered the recommended and most basic dish there which was the chicken shawarma wrap with mid spice. I always thought I could take spicy foods well but after having their shawarma I question my spice tolerance...For the price, the portion you get is not bad and the service was pretty quick. I would have to say this place did live up to its hype as other shawarma places like Shawarma Plus didn't do me justice (shawarma was a bit too dry for my liking) and I'll probably go back again if I'm craving shawarmas.\",\n",
       " \"Staff is very rude and I've noticed this at more than one location that they are busy chatting amongst themselves and they practically throw the food at the counter and turn their back as they continue chatting. It just seems like they  don't appreciate or put much stalk in being generally courteous or respectful towards customer. I have noticed this several times at multiple locations now and I was being careful not to be rude to them because I want to leave a fair review. Also, I wasn't entirely sure why they are behaving this way because until last year I found their service to be ok but it just seems their success may be getting to their heads or they just don't appreciate customers. In that case, Its just fair to take my business somewhere else and spend money elsewhere. Enough with this rude customer service model.\"]"
      ]
     },
     "execution_count": 21,
     "metadata": {},
     "output_type": "execute_result"
    }
   ],
   "source": [
    "badTexts"
   ]
  },
  {
   "cell_type": "code",
   "execution_count": 22,
   "id": "0be04e3d-4720-4018-9c54-b3b5a9fcabcc",
   "metadata": {},
   "outputs": [
    {
     "data": {
      "text/plain": [
       "['Chicken Shawarma Platter and Greek SaladThis was FANTASTIC! The Shawarma was outstanding and filling and the salad was outstanding! Will definitely be going back',\n",
       " '10/10. Fries have flour on them I think tho, so not GF friendly, but yum. The guys were nice when I went.',\n",
       " \"Been here a few times and always get lazeez on the rocks. I've had it with rice, fries, and potatoes but I think that my favourite combination would be half fries and half rice. Potatoes are $1 extra and salads are $3 extra. Their sauces are really good! Wish they put a little bit of veggies in their regular meals, would make the meal more refreshing. Proportions are pretty large/decent size. The large was $8.99 and the regular was $6.99zStaff were okay, could tell they were high, saw one holding cigarettes (with plastic gloves on), put them away, then proceeded to prepare food..\",\n",
       " \"Exam season in full swing and I've pretty much lost the little motivation I had to cook my own meals, so I've been resorting to getting take outs for a while. After the disappointment that was Shawerma Plus I didn't feel like trying out a similar restaurant, but my friend convinced me to give Lazeez a try because apparently, the portions are a lot better. I got the Regular sized Lazeez on the Rocks platter ($6.99) with half fries half rice (+$1) per my friend's recommendation. It was a generous layer of shawarma beef on top of rice and fries, with a think layer a garlic sauce drizzled on top with a dash of hot sauce. It was sooooo greasy and also soooooo satisfying. Definitely the comfort food I needed after a long day of studying!!! The portion size was good too, I had enough leftover for a second meal the following day, and it still tasted decent after getting reheated in the microwave. Would definitely revisit, and hope the new location at Waterloo plaza will offer the same quality of food as this location.PS. the hot sauce is VERY spicy, don't try to test your limits by asking for too much\",\n",
       " \"I like this location. The young guy who works there is friendly and works fast. I haven't had a bad experience here yet\",\n",
       " \"Lazeez offers a variety of grilled Middle Eastern foods with most opting for either a chicken shawarma wrap or plate. I ordered the chicken shawarma plate which also came with a side salad. I found that the rice was cooked well, with a slight bite to it. I like it, do normal people like it like that? Salad was plain, just lettuce, pickled vegetables and onions with a light dressing. The chicken was similar to Mozy's, albeit with slightly larger pieces (I assume you know Mozy's if you're reading this...) so I would say it's better. The staff here were definitely high and were super confused with everything, though this was pretty comical. Overall, I'd come back here over Mozy's but Shawarma Plus is still the top dog!\"]"
      ]
     },
     "execution_count": 22,
     "metadata": {},
     "output_type": "execute_result"
    }
   ],
   "source": [
    "goodTexts"
   ]
  },
  {
   "cell_type": "markdown",
   "id": "869e2ad1-cecf-4c64-a424-9b00fb74039e",
   "metadata": {},
   "source": [
    "### STEP 4: Summarization of first, last quantile using Pegasus, quantifying error in summarization \n",
    "(how representative is this summarization of all the comments in this quartile?)"
   ]
  },
  {
   "cell_type": "markdown",
   "id": "a293f08a-43d9-4988-b0e4-06189d9e4b66",
   "metadata": {},
   "source": [
    "##### 4.1 Load Models"
   ]
  },
  {
   "cell_type": "code",
   "execution_count": 12,
   "id": "c6529a7d-a35f-4dd9-a472-a55dbdce716d",
   "metadata": {},
   "outputs": [],
   "source": [
    "## Install PyTorch, HuggingFace Transformers Library, SentencePiece\n",
    "# !conda install pytorch torchvision torchaudio pytorch-cuda=11.8 -c pytorch -c nvidia\n",
    "# !conda install -c huggingface transformers\n",
    "# !conda install -c conda-forge sentencepiece\n",
    "import sys\n",
    "#!{sys.executable} -m pip install git+https://github.com/huggingface/transformers"
   ]
  },
  {
   "cell_type": "code",
   "execution_count": 13,
   "id": "fca31a52-8cb4-4ced-af25-ef4d0bff9cf5",
   "metadata": {},
   "outputs": [],
   "source": [
    "## Import Dependencies from Transformers\n",
    "from transformers import PegasusForConditionalGeneration, PegasusTokenizer"
   ]
  },
  {
   "cell_type": "markdown",
   "id": "da96bdbc-df9f-4777-8f59-709b52a03db3",
   "metadata": {},
   "source": [
    "##### 4.2: Instantiate, Encode + Decode Summarization"
   ]
  },
  {
   "cell_type": "code",
   "execution_count": 14,
   "id": "3b96f388-d7eb-421b-9f3e-cba41fe3155b",
   "metadata": {},
   "outputs": [
    {
     "name": "stderr",
     "output_type": "stream",
     "text": [
      "Some weights of PegasusForConditionalGeneration were not initialized from the model checkpoint at google/pegasus-xsum and are newly initialized: ['model.decoder.embed_positions.weight', 'model.encoder.embed_positions.weight']\n",
      "You should probably TRAIN this model on a down-stream task to be able to use it for predictions and inference.\n"
     ]
    }
   ],
   "source": [
    "## Initialize Tokenizer\n",
    "pegTokenizer = PegasusTokenizer.from_pretrained(\"google/pegasus-xsum\")\n",
    "## Initialize Model\n",
    "pegModel = PegasusForConditionalGeneration.from_pretrained(\"google/pegasus-xsum\")"
   ]
  },
  {
   "cell_type": "code",
   "execution_count": 36,
   "id": "1f245b65-c78a-4d44-a444-dc38ef3dd77d",
   "metadata": {},
   "outputs": [],
   "source": [
    "badSummary = [pegTokenizer.decode(pegModel.generate(**pegTokenizer(badText, truncation=True, padding='longest', return_tensors='pt'))[0]) for badText in badTexts]\n",
    "goodSummary = [pegTokenizer.decode(pegModel.generate(**pegTokenizer(goodText, truncation=True, padding='longest', return_tensors='pt'))[0]) for goodText in goodTexts]\n",
    "\n"
   ]
  },
  {
   "cell_type": "code",
   "execution_count": 37,
   "id": "ad099bff-a9e1-4224-aa4e-e93d6c72c4b4",
   "metadata": {},
   "outputs": [],
   "source": [
    "for i in range(len(badSummary)):\n",
    "    badSummary[i] = badSummary[i][5:-4]\n",
    "for i in range(len(goodSummary)):\n",
    "    goodSummary[i] = goodSummary[i][5:-4]"
   ]
  },
  {
   "cell_type": "code",
   "execution_count": 38,
   "id": "4ab1a907-8c79-4e7a-ac4d-252975d4f798",
   "metadata": {},
   "outputs": [
    {
     "data": {
      "text/plain": [
       "['What do you think of the shawarma at this restaurant in the West End?',\n",
       " \"I've been to this place before and it's pretty good.\",\n",
       " \"Lazeez is one of the best shawarma places I've ever been to.\",\n",
       " \"I'm writing to let you all know that I'm going to be leaving a review of my local McDonald's.\"]"
      ]
     },
     "execution_count": 38,
     "metadata": {},
     "output_type": "execute_result"
    }
   ],
   "source": [
    "badSummary"
   ]
  },
  {
   "cell_type": "code",
   "execution_count": 39,
   "id": "9744aa9f-ee79-483f-beb6-b1005e785c4e",
   "metadata": {},
   "outputs": [
    {
     "data": {
      "text/plain": [
       "['The food was delicious and the service was excellent.',\n",
       " \"I've been to this place before and it's the best fries I've had.\",\n",
       " \"I've been to this place a few times and always get lazeez on the rocks.\",\n",
       " \"It's been a while since I've been to Lazeez.\",\n",
       " \"I've been to this place before and it's pretty good.\",\n",
       " \"If you're a fan of shawarma then Lazeez is the place for you.\"]"
      ]
     },
     "execution_count": 39,
     "metadata": {},
     "output_type": "execute_result"
    }
   ],
   "source": [
    "goodSummary"
   ]
  },
  {
   "cell_type": "code",
   "execution_count": 40,
   "id": "d8d852c0-3e36-4f2e-aa26-e5d5e9d92b5a",
   "metadata": {},
   "outputs": [],
   "source": [
    "badSummaryFinal = pegTokenizer.decode(pegModel.generate(**pegTokenizer(badSummary, truncation=True, padding='longest', return_tensors='pt'))[0])\n",
    "goodSummaryFinal = pegTokenizer.decode(pegModel.generate(**pegTokenizer(goodSummary, truncation=True, padding='longest', return_tensors='pt'))[0])"
   ]
  },
  {
   "cell_type": "code",
   "execution_count": 41,
   "id": "e5943fc5-b6ea-4cbc-9075-bebbad4b37b6",
   "metadata": {},
   "outputs": [
    {
     "data": {
      "text/plain": [
       "\"<pad>shawarma restaurant in London's West End - what do you think of it?</s><pad><pad><pad><pad><pad><pad><pad><pad><pad><pad><pad><pad><pad><pad><pad><pad><pad><pad><pad><pad><pad><pad><pad><pad><pad><pad><pad><pad><pad><pad><pad><pad><pad><pad><pad><pad><pad><pad><pad><pad><pad><pad><pad><pad>\""
      ]
     },
     "execution_count": 41,
     "metadata": {},
     "output_type": "execute_result"
    }
   ],
   "source": [
    "badSummaryFinal"
   ]
  },
  {
   "cell_type": "code",
   "execution_count": 42,
   "id": "46a337dd-ffb0-4d01-9337-484a74b99407",
   "metadata": {},
   "outputs": [
    {
     "data": {
      "text/plain": [
       "'<pad>The food was delicious and the service was excellent.</s><pad><pad><pad><pad><pad><pad><pad><pad><pad><pad><pad><pad><pad><pad><pad><pad><pad><pad><pad><pad><pad><pad><pad><pad><pad><pad><pad><pad><pad><pad><pad><pad><pad><pad><pad><pad><pad><pad><pad><pad><pad><pad><pad><pad><pad><pad><pad><pad><pad><pad><pad><pad>'"
      ]
     },
     "execution_count": 42,
     "metadata": {},
     "output_type": "execute_result"
    }
   ],
   "source": [
    "goodSummaryFinal"
   ]
  }
 ],
 "metadata": {
  "kernelspec": {
   "display_name": "reviewHero3",
   "language": "python",
   "name": "reviewhero3"
  },
  "language_info": {
   "codemirror_mode": {
    "name": "ipython",
    "version": 3
   },
   "file_extension": ".py",
   "mimetype": "text/x-python",
   "name": "python",
   "nbconvert_exporter": "python",
   "pygments_lexer": "ipython3",
   "version": "3.11.5"
  }
 },
 "nbformat": 4,
 "nbformat_minor": 5
}
